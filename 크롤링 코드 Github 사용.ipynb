{
 "cells": [
  {
   "cell_type": "code",
   "execution_count": 1,
   "id": "ffb96c1f",
   "metadata": {},
   "outputs": [
    {
     "name": "stdout",
     "output_type": "stream",
     "text": [
      "Requirement already satisfied: google-play-scraper in c:\\users\\cksgh\\anaconda3\\lib\\site-packages (1.2.4)\n"
     ]
    },
    {
     "name": "stderr",
     "output_type": "stream",
     "text": [
      "WARNING: Ignoring invalid distribution -oblib (c:\\users\\cksgh\\anaconda3\\lib\\site-packages)\n",
      "WARNING: Ignoring invalid distribution -oblib (c:\\users\\cksgh\\anaconda3\\lib\\site-packages)\n"
     ]
    }
   ],
   "source": [
    "!pip install google-play-scraper"
   ]
  },
  {
   "cell_type": "markdown",
   "id": "6aa38a6b",
   "metadata": {},
   "source": [
    "## Most Relevant Functions"
   ]
  },
  {
   "cell_type": "code",
   "execution_count": 2,
   "id": "740c676a",
   "metadata": {},
   "outputs": [],
   "source": [
    "def relevant_Functions(link,language,reviews,time):\n",
    "    from google_play_scraper import Sort, reviews_all\n",
    "\n",
    "    result = reviews_all(\n",
    "        link,\n",
    "        sleep_milliseconds=time, # defaults to 0\n",
    "        lang=language, # defaults to 'en'\n",
    "        country='us', # defaults to 'us'\n",
    "        sort=Sort.MOST_RELEVANT, # defaults to Sort.MOST_RELEVANT\n",
    "        filter_score_with=reviews # defaults to None(means all score)\n",
    "    )\n",
    "    return result"
   ]
  },
  {
   "cell_type": "code",
   "execution_count": 3,
   "id": "aa47df9a",
   "metadata": {},
   "outputs": [],
   "source": [
    "def Newest_Functions(link,language,reviews):\n",
    "    from google_play_scraper import Sort, reviews_all\n",
    "\n",
    "    result = reviews_all(\n",
    "        link,\n",
    "        sleep_milliseconds=0, # defaults to 0\n",
    "        lang=language, # defaults to 'en'\n",
    "        country='us', # defaults to 'us'\n",
    "        sort=Sort.NEWEST, # defaults to Sort.MOST_RELEVANT\n",
    "        filter_score_with=reviews # defaults to None(means all score)\n",
    "    )\n",
    "    return result"
   ]
  },
  {
   "cell_type": "markdown",
   "id": "08f98e47",
   "metadata": {},
   "source": [
    "## Reviews All"
   ]
  },
  {
   "cell_type": "code",
   "execution_count": 6,
   "id": "0796361d",
   "metadata": {},
   "outputs": [
    {
     "data": {
      "text/plain": [
       "40758"
      ]
     },
     "execution_count": 6,
     "metadata": {},
     "output_type": "execute_result"
    }
   ],
   "source": [
    "len(data2)"
   ]
  },
  {
   "cell_type": "code",
   "execution_count": null,
   "id": "e94c6996",
   "metadata": {},
   "outputs": [],
   "source": [
    "link = 'com.devsisters.CookieRunForKakao'\n",
    "data1=relevant_Functions(link, 'ko',1)\n",
    "data2=relevant_Functions(link, 'ko',2)"
   ]
  },
  {
   "cell_type": "code",
   "execution_count": null,
   "id": "226ddaee",
   "metadata": {},
   "outputs": [],
   "source": [
    "data3=relevant_Functions(link, 'ko',3,0.5)\n",
    "data4=relevant_Functions(link, 'ko',4,0)\n",
    "data5=relevant_Functions(link, 'ko',5,0)"
   ]
  },
  {
   "cell_type": "code",
   "execution_count": null,
   "id": "e7753f4b",
   "metadata": {},
   "outputs": [],
   "source": [
    "def Make_DataFrame(data,plus_data):\n",
    "    for i,j in enumerate(result):\n",
    "        plus_data.loc[i,'name']= j['userName'] \n",
    "        plus_data.loc[i,'reviews']= j['content'] \n",
    "        plus_data.loc[i,'score']= j['score'] \n",
    "        plus_data.loc[i,'year']= j['at'].year\n",
    "        plus_data.loc[i,'month']= j['at'].month\n",
    "        plus_data.loc[i,'day']= j['at'].day\n",
    "    "
   ]
  },
  {
   "cell_type": "code",
   "execution_count": null,
   "id": "aa4dc373",
   "metadata": {},
   "outputs": [],
   "source": [
    "import pandas as pd\n",
    "data = pd.DataFrame()\n",
    "data['name'] = None\n",
    "data['reviews'] = None\n",
    "data['score'] = None\n",
    "data['year'] = None\n",
    "data['month'] = None\n",
    "data['day'] = None"
   ]
  },
  {
   "cell_type": "code",
   "execution_count": null,
   "id": "550f166d",
   "metadata": {},
   "outputs": [],
   "source": [
    "for i in range(1,6):\n",
    "    Make_DataFrame(data,data+str(i))"
   ]
  },
  {
   "cell_type": "code",
   "execution_count": null,
   "id": "320e56df",
   "metadata": {},
   "outputs": [],
   "source": []
  },
  {
   "cell_type": "code",
   "execution_count": 21,
   "id": "d82e2d21",
   "metadata": {},
   "outputs": [],
   "source": [
    "from google_play_scraper import Sort, reviews_all\n",
    "\n",
    "result = reviews_all(\n",
    "    'com.itoxi.jeonsinaos',\n",
    "    sleep_milliseconds=0, # defaults to 0\n",
    "    lang='ko', # defaults to 'en'\n",
    "    country='us', # defaults to 'us'\n",
    "    sort=Sort.MOST_RELEVANT, # defaults to Sort.MOST_RELEVANT\n",
    "    filter_score_with=5 # defaults to None(means all score)\n",
    ")"
   ]
  },
  {
   "cell_type": "code",
   "execution_count": 22,
   "id": "d4dec78b",
   "metadata": {},
   "outputs": [
    {
     "data": {
      "text/plain": [
       "751"
      ]
     },
     "execution_count": 22,
     "metadata": {},
     "output_type": "execute_result"
    }
   ],
   "source": [
    "len(result)"
   ]
  },
  {
   "cell_type": "code",
   "execution_count": 61,
   "id": "f22cb060",
   "metadata": {},
   "outputs": [],
   "source": [
    "from google_play_scraper import Sort, reviews_all\n",
    "\n",
    "result = reviews_all(\n",
    "    'com.dxx.firenow',\n",
    "    sleep_milliseconds=0, # defaults to 0\n",
    "    lang='ko', # defaults to 'en'\n",
    "    country='us', # defaults to 'us'\n",
    "    sort=Sort.NEWEST, # defaults to Sort.MOST_RELEVANT\n",
    "    filter_score_with=5 # defaults to None(mexans all score)\n",
    ")"
   ]
  },
  {
   "cell_type": "code",
   "execution_count": 62,
   "id": "51a31497",
   "metadata": {},
   "outputs": [
    {
     "data": {
      "text/plain": [
       "40404"
      ]
     },
     "execution_count": 62,
     "metadata": {},
     "output_type": "execute_result"
    }
   ],
   "source": [
    "len(result)"
   ]
  },
  {
   "cell_type": "code",
   "execution_count": 14,
   "id": "c50dbec9",
   "metadata": {},
   "outputs": [],
   "source": [
    "import pandas as pd\n",
    "data = pd.DataFrame()\n",
    "data['name'] = None\n",
    "data['reviews'] = None\n",
    "data['score'] = None\n",
    "data['year'] = None\n",
    "data['month'] = None\n",
    "data['day'] = None"
   ]
  },
  {
   "cell_type": "code",
   "execution_count": 15,
   "id": "7a120859",
   "metadata": {},
   "outputs": [],
   "source": [
    "for i,j in enumerate(result):\n",
    "    data.loc[i,'name']= j['userName'] \n",
    "    data.loc[i,'reviews']= j['content'] \n",
    "    data.loc[i,'score']= j['score'] \n",
    "    data.loc[i,'year']= j['at'].year\n",
    "    data.loc[i,'month']= j['at'].month\n",
    "    data.loc[i,'day']= j['at'].day\n",
    "    "
   ]
  },
  {
   "cell_type": "code",
   "execution_count": 11,
   "id": "9b0eb48f",
   "metadata": {},
   "outputs": [],
   "source": [
    "data1 = data"
   ]
  },
  {
   "cell_type": "code",
   "execution_count": 16,
   "id": "1ddafa4d",
   "metadata": {},
   "outputs": [],
   "source": [
    "data2 = data"
   ]
  },
  {
   "cell_type": "code",
   "execution_count": 55,
   "id": "a458fa6b",
   "metadata": {},
   "outputs": [],
   "source": [
    "data3 = data"
   ]
  },
  {
   "cell_type": "code",
   "execution_count": 60,
   "id": "0c779ecf",
   "metadata": {},
   "outputs": [],
   "source": [
    "data4 = data"
   ]
  },
  {
   "cell_type": "code",
   "execution_count": 65,
   "id": "f67092af",
   "metadata": {},
   "outputs": [],
   "source": [
    "data5 = data"
   ]
  },
  {
   "cell_type": "code",
   "execution_count": 67,
   "id": "c0d6bab0",
   "metadata": {},
   "outputs": [],
   "source": [
    "pd.concat([data1,data2,data3,data4,data5],axis=0).to_csv(\"탕탕특공대_Newest_Reviews.csv\")"
   ]
  },
  {
   "cell_type": "code",
   "execution_count": 71,
   "id": "b6f711d3",
   "metadata": {},
   "outputs": [],
   "source": [
    "df1 = pd.read_csv(\"탕탕특공대_Relevant_Reviews.csv\")\n",
    "df2 = pd.read_csv(\"탕탕특공대_Newest_Reviews.csv\")\n",
    "df1.drop(\"Unnamed: 0\",axis=1,inplace=True)\n",
    "df2.drop(\"Unnamed: 0\",axis=1,inplace=True)"
   ]
  },
  {
   "cell_type": "code",
   "execution_count": 110,
   "id": "303c9793",
   "metadata": {},
   "outputs": [
    {
     "data": {
      "text/html": [
       "<div>\n",
       "<style scoped>\n",
       "    .dataframe tbody tr th:only-of-type {\n",
       "        vertical-align: middle;\n",
       "    }\n",
       "\n",
       "    .dataframe tbody tr th {\n",
       "        vertical-align: top;\n",
       "    }\n",
       "\n",
       "    .dataframe thead th {\n",
       "        text-align: right;\n",
       "    }\n",
       "</style>\n",
       "<table border=\"1\" class=\"dataframe\">\n",
       "  <thead>\n",
       "    <tr style=\"text-align: right;\">\n",
       "      <th></th>\n",
       "      <th>name</th>\n",
       "      <th>reviews</th>\n",
       "      <th>score</th>\n",
       "      <th>year</th>\n",
       "      <th>month</th>\n",
       "      <th>day</th>\n",
       "    </tr>\n",
       "  </thead>\n",
       "  <tbody>\n",
       "    <tr>\n",
       "      <th>0</th>\n",
       "      <td>HP LM</td>\n",
       "      <td>지겨워</td>\n",
       "      <td>1</td>\n",
       "      <td>2023</td>\n",
       "      <td>5</td>\n",
       "      <td>15</td>\n",
       "    </tr>\n",
       "    <tr>\n",
       "      <th>1</th>\n",
       "      <td>123 귀요미와 깜찍이</td>\n",
       "      <td>저 레벨 18이였는데 저절로 게임이 지워졌어요 그래서 다시해야하나 걱정이네요 이거 ...</td>\n",
       "      <td>1</td>\n",
       "      <td>2023</td>\n",
       "      <td>5</td>\n",
       "      <td>14</td>\n",
       "    </tr>\n",
       "    <tr>\n",
       "      <th>2</th>\n",
       "      <td>신지율</td>\n",
       "      <td>광고 수준 ㅉㅉ 역겹다 광고나 다시 찍어 뇌절겜아</td>\n",
       "      <td>1</td>\n",
       "      <td>2023</td>\n",
       "      <td>5</td>\n",
       "      <td>14</td>\n",
       "    </tr>\n",
       "    <tr>\n",
       "      <th>3</th>\n",
       "      <td>kyuseol kim</td>\n",
       "      <td>. 좀고쳐주세요너무어려어요!!!!!!!!!!!!!!!!!!!!!!좀!!!!!!!!!...</td>\n",
       "      <td>1</td>\n",
       "      <td>2023</td>\n",
       "      <td>5</td>\n",
       "      <td>14</td>\n",
       "    </tr>\n",
       "    <tr>\n",
       "      <th>4</th>\n",
       "      <td>임현정</td>\n",
       "      <td>좋은거같긴한데. 어려워서싫어요</td>\n",
       "      <td>1</td>\n",
       "      <td>2023</td>\n",
       "      <td>5</td>\n",
       "      <td>14</td>\n",
       "    </tr>\n",
       "    <tr>\n",
       "      <th>...</th>\n",
       "      <td>...</td>\n",
       "      <td>...</td>\n",
       "      <td>...</td>\n",
       "      <td>...</td>\n",
       "      <td>...</td>\n",
       "      <td>...</td>\n",
       "    </tr>\n",
       "    <tr>\n",
       "      <th>52923</th>\n",
       "      <td>박희만</td>\n",
       "      <td>완전 꿀잼이에요!!! 재밌게 하겠습니다</td>\n",
       "      <td>5</td>\n",
       "      <td>2022</td>\n",
       "      <td>8</td>\n",
       "      <td>10</td>\n",
       "    </tr>\n",
       "    <tr>\n",
       "      <th>52924</th>\n",
       "      <td>김진우</td>\n",
       "      <td>과금 유도가 적고 쉽고 재밌다 리얼임</td>\n",
       "      <td>5</td>\n",
       "      <td>2022</td>\n",
       "      <td>8</td>\n",
       "      <td>10</td>\n",
       "    </tr>\n",
       "    <tr>\n",
       "      <th>52925</th>\n",
       "      <td>송인재</td>\n",
       "      <td>재밋어요 시간잘감</td>\n",
       "      <td>5</td>\n",
       "      <td>2022</td>\n",
       "      <td>8</td>\n",
       "      <td>10</td>\n",
       "    </tr>\n",
       "    <tr>\n",
       "      <th>52926</th>\n",
       "      <td>쿠로하</td>\n",
       "      <td>괜찮네요</td>\n",
       "      <td>5</td>\n",
       "      <td>2022</td>\n",
       "      <td>8</td>\n",
       "      <td>10</td>\n",
       "    </tr>\n",
       "    <tr>\n",
       "      <th>52927</th>\n",
       "      <td>김남준</td>\n",
       "      <td>제일 직관적이고 성장하는 맛도 있는 서바이벌류 게임</td>\n",
       "      <td>5</td>\n",
       "      <td>2022</td>\n",
       "      <td>8</td>\n",
       "      <td>10</td>\n",
       "    </tr>\n",
       "  </tbody>\n",
       "</table>\n",
       "<p>52928 rows × 6 columns</p>\n",
       "</div>"
      ],
      "text/plain": [
       "               name                                            reviews  score  \\\n",
       "0             HP LM                                                지겨워      1   \n",
       "1      123 귀요미와 깜찍이  저 레벨 18이였는데 저절로 게임이 지워졌어요 그래서 다시해야하나 걱정이네요 이거 ...      1   \n",
       "2               신지율                        광고 수준 ㅉㅉ 역겹다 광고나 다시 찍어 뇌절겜아      1   \n",
       "3       kyuseol kim  . 좀고쳐주세요너무어려어요!!!!!!!!!!!!!!!!!!!!!!좀!!!!!!!!!...      1   \n",
       "4               임현정                                   좋은거같긴한데. 어려워서싫어요      1   \n",
       "...             ...                                                ...    ...   \n",
       "52923           박희만                              완전 꿀잼이에요!!! 재밌게 하겠습니다      5   \n",
       "52924           김진우                               과금 유도가 적고 쉽고 재밌다 리얼임      5   \n",
       "52925           송인재                                          재밋어요 시간잘감      5   \n",
       "52926           쿠로하                                               괜찮네요      5   \n",
       "52927           김남준                       제일 직관적이고 성장하는 맛도 있는 서바이벌류 게임      5   \n",
       "\n",
       "       year  month  day  \n",
       "0      2023      5   15  \n",
       "1      2023      5   14  \n",
       "2      2023      5   14  \n",
       "3      2023      5   14  \n",
       "4      2023      5   14  \n",
       "...     ...    ...  ...  \n",
       "52923  2022      8   10  \n",
       "52924  2022      8   10  \n",
       "52925  2022      8   10  \n",
       "52926  2022      8   10  \n",
       "52927  2022      8   10  \n",
       "\n",
       "[52928 rows x 6 columns]"
      ]
     },
     "execution_count": 110,
     "metadata": {},
     "output_type": "execute_result"
    }
   ],
   "source": [
    "df2"
   ]
  },
  {
   "cell_type": "markdown",
   "id": "7fb266cd",
   "metadata": {},
   "source": [
    "## Reviews"
   ]
  },
  {
   "cell_type": "code",
   "execution_count": 24,
   "id": "49ca4803",
   "metadata": {},
   "outputs": [],
   "source": [
    "from google_play_scraper import Sort, reviews\n",
    "\n",
    "result, continuation_token = reviews(\n",
    "    'com.dxx.firenow',\n",
    "    lang='ko', # defaults to 'en'\n",
    "    country='us', # defaults to 'us'\n",
    "    sort=Sort.NEWEST, # defaults to Sort.NEWEST\n",
    "    count=3, # defaults to 100\n",
    "    filter_score_with=5 # defaults to None(means all score)\n",
    ")\n",
    "\n",
    "# If you pass `continuation_token` as an argument to the reviews function at this point,\n",
    "# it will crawl the items after 3 review items."
   ]
  },
  {
   "cell_type": "code",
   "execution_count": null,
   "id": "726c8fbc",
   "metadata": {},
   "outputs": [],
   "source": []
  }
 ],
 "metadata": {
  "kernelspec": {
   "display_name": "Python 3 (ipykernel)",
   "language": "python",
   "name": "python3"
  },
  "language_info": {
   "codemirror_mode": {
    "name": "ipython",
    "version": 3
   },
   "file_extension": ".py",
   "mimetype": "text/x-python",
   "name": "python",
   "nbconvert_exporter": "python",
   "pygments_lexer": "ipython3",
   "version": "3.9.13"
  }
 },
 "nbformat": 4,
 "nbformat_minor": 5
}
